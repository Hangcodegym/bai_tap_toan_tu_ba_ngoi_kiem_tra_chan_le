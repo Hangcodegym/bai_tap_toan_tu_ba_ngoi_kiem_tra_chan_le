{
 "cells": [
  {
   "cell_type": "code",
   "execution_count": null,
   "id": "7220c34c",
   "metadata": {},
   "outputs": [],
   "source": [
    "a=int(input('nhập vào một số nguyên bất kỳ:  '))\n",
    "so_chan=print(f'số {a} là số chẵn') if a%2==0 else print(f'số {a} là số lẻ')"
   ]
  }
 ],
 "metadata": {
  "kernelspec": {
   "display_name": "Python 3 (ipykernel)",
   "language": "python",
   "name": "python3"
  },
  "language_info": {
   "codemirror_mode": {
    "name": "ipython",
    "version": 3
   },
   "file_extension": ".py",
   "mimetype": "text/x-python",
   "name": "python",
   "nbconvert_exporter": "python",
   "pygments_lexer": "ipython3",
   "version": "3.9.12"
  }
 },
 "nbformat": 4,
 "nbformat_minor": 5
}
